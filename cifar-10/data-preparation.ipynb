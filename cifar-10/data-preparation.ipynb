{
 "cells": [
  {
   "cell_type": "code",
   "execution_count": null,
   "metadata": {
    "pycharm": {
     "is_executing": false
    }
   },
   "outputs": [],
   "source": [
    "import os\n",
    "import tensorflow as tf\n",
    "import tarfile\n",
    "import urllib.request"
   ]
  },
  {
   "cell_type": "code",
   "execution_count": null,
   "metadata": {
    "pycharm": {
     "is_executing": false,
     "name": "#%%\n"
    }
   },
   "outputs": [],
   "source": [
    "_root = '.'\n",
    "_data_root = _root + '/data'"
   ]
  },
  {
   "cell_type": "code",
   "execution_count": null,
   "metadata": {
    "pycharm": {
     "is_executing": false,
     "name": "#%%\n"
    }
   },
   "outputs": [],
   "source": [
    "archive_file = os.path.join(_data_root, 'cifar.tgz')\n",
    "\n",
    "if os.path.isfile(archive_file):\n",
    "    print(archive_file + ' file already exists, skipping...')\n",
    "else:\n",
    "    urllib.request.urlretrieve('http://pjreddie.com/media/files/cifar.tgz', archive_file)\n",
    "    tar = tarfile.open(archive_file, \"r:gz\")\n",
    "    tar.extractall(_data_root)\n",
    "    tar.close()"
   ]
  },
  {
   "cell_type": "code",
   "execution_count": null,
   "metadata": {
    "pycharm": {
     "is_executing": false,
     "name": "#%%\n"
    }
   },
   "outputs": [],
   "source": [
    "IMG_SIZE = 32\n",
    "\n",
    "labels = {\"airplane\": 0,\n",
    "          \"automobile\": 1,\n",
    "          \"bird\": 2,\n",
    "          \"cat\": 3,\n",
    "          \"deer\": 4,\n",
    "          \"dog\": 5,\n",
    "          \"frog\": 6,\n",
    "          \"horse\": 7,\n",
    "          \"ship\": 8,\n",
    "          \"truck\": 9}\n",
    "\n",
    "for annotation in ('train', 'test'):\n",
    "    output_file = os.path.join(_data_root, annotation + '.tfrecord')\n",
    "    if os.path.isfile(output_file):\n",
    "        print(output_file + ' file already exists, skipping...')\n",
    "    else:\n",
    "        with tf.io.TFRecordWriter(output_file) as writer:\n",
    "            folder = os.path.join(_data_root, 'cifar', annotation)\n",
    "            for file_name in os.listdir(folder):\n",
    "                label = file_name.split(\"_\")[1][:-4]\n",
    "                label_id = labels[label]\n",
    "                image_string = open(os.path.join(folder, file_name), 'rb').read()\n",
    "                image = tf.image.decode_image(image_string, dtype=tf.dtypes.uint8)\n",
    "                image_resized = tf.cast(tf.image.resize_images(image, size=[IMG_SIZE,IMG_SIZE],\n",
    "                                                               method=tf.image.ResizeMethod.AREA),\n",
    "                                        tf.uint8)\n",
    "                image_string = tf.image.encode_jpeg(image_resized)\n",
    "                feature = {\n",
    "                    'label': tf.train.Feature(int64_list=tf.train.Int64List(\n",
    "                        value=[label_id])),\n",
    "                    'image_raw': tf.train.Feature(bytes_list=tf.train.BytesList(\n",
    "                        value=[image_string.numpy()])),\n",
    "                }\n",
    "                tf_example = tf.train.Example(features=tf.train.Features(feature=feature))\n",
    "                writer.write(tf_example.SerializeToString())"
   ]
  },
  {
   "cell_type": "code",
   "execution_count": null,
   "metadata": {
    "pycharm": {
     "is_executing": false,
     "name": "#%%\n"
    }
   },
   "outputs": [],
   "source": []
  }
 ],
 "metadata": {
  "kernelspec": {
   "display_name": "Python 3",
   "language": "python",
   "name": "python3"
  },
  "language_info": {
   "codemirror_mode": {
    "name": "ipython",
    "version": 3
   },
   "file_extension": ".py",
   "mimetype": "text/x-python",
   "name": "python",
   "nbconvert_exporter": "python",
   "pygments_lexer": "ipython3",
   "version": "3.6.8"
  },
  "pycharm": {
   "stem_cell": {
    "cell_type": "raw",
    "source": [],
    "metadata": {
     "collapsed": false
    }
   }
  }
 },
 "nbformat": 4,
 "nbformat_minor": 2
}