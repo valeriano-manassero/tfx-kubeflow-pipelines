{
 "cells": [
  {
   "cell_type": "code",
   "execution_count": null,
   "metadata": {
    "pycharm": {
     "is_executing": false
    }
   },
   "outputs": [],
   "source": [
    "import json\n",
    "import os\n",
    "import tensorflow as tf\n",
    "import tarfile\n",
    "import urllib.request"
   ]
  },
  {
   "cell_type": "code",
   "execution_count": null,
   "metadata": {
    "pycharm": {
     "is_executing": false,
     "name": "#%%\n"
    }
   },
   "outputs": [],
   "source": [
    "tf.enable_eager_execution()"
   ]
  },
  {
   "cell_type": "code",
   "execution_count": null,
   "outputs": [],
   "source": [
    "_root = '.'\n",
    "_data_root = _root + '/data'"
   ],
   "metadata": {
    "collapsed": false,
    "pycharm": {
     "name": "#%%\n"
    }
   }
  },
  {
   "cell_type": "code",
   "execution_count": null,
   "metadata": {
    "pycharm": {
     "is_executing": false,
     "name": "#%%\n"
    }
   },
   "outputs": [],
   "source": [
    "archive_file = os.path.join(_data_root, 'train_val2019.tar.gz')\n",
    "\n",
    "if os.path.isfile(archive_file):\n",
    "    print(archive_file + ' file already exists, skipping...')\n",
    "else:\n",
    "    urllib.request.urlretrieve('http://www.vision.caltech.edu/~gvanhorn/datasets/inaturalist/fgvc6_competition/train_val2019.tar.gz', archive_file)\n",
    "    tar = tarfile.open(archive_file, \"r:gz\")\n",
    "    tar.extractall(_data_root)\n",
    "    tar.close()"
   ]
  },
  {
   "cell_type": "code",
   "execution_count": null,
   "metadata": {
    "pycharm": {
     "is_executing": false,
     "name": "#%%\n"
    }
   },
   "outputs": [],
   "source": [
    "IMG_SIZE = 224\n",
    "SUPERCATEGORY = 'Plants'\n",
    "\n",
    "path = os.path.join(_data_root, 'train_val2019', SUPERCATEGORY)\n",
    "image_labels = {}\n",
    "i = 0\n",
    "for name in os.listdir(path):\n",
    "    image_labels[name] = i\n",
    "    i += 1\n",
    "\n",
    "with open(os.path.join(_data_root, 'labels.json'), \"w\") as f:\n",
    "    f.write(json.dumps(image_labels))\n",
    "\n",
    "for annotation in ('train', 'eval'):\n",
    "    output_file = os.path.join(_data_root, annotation + '.tfrecord')\n",
    "    if os.path.isfile(output_file):\n",
    "        print(output_file + ' file already exists, skipping...')\n",
    "    else:\n",
    "        with tf.io.TFRecordWriter(output_file) as writer:\n",
    "            with open(os.path.join(_data_root, annotation + '2019.json')) as json_file:\n",
    "                data = json.load(json_file)\n",
    "                x = 0\n",
    "                for img in data['images']:\n",
    "                    x+=1\n",
    "                    if x>50:\n",
    "                        break\n",
    "                    file_name = img['file_name']\n",
    "                    splitted_file_name = file_name.split('/')\n",
    "                    if splitted_file_name[1] == SUPERCATEGORY:\n",
    "                        labels = str(image_labels[splitted_file_name[2]])\n",
    "                        image_string = open(os.path.join(_data_root, file_name), 'rb').read()\n",
    "                        image = tf.image.decode_image(image_string, dtype=tf.dtypes.uint8)\n",
    "                        image_resized = tf.cast(tf.image.resize_images(image, size=[IMG_SIZE,IMG_SIZE],\n",
    "                                                                       method=tf.image.ResizeMethod.AREA),\n",
    "                                                tf.uint8)\n",
    "                        image_string = tf.image.encode_jpeg(image_resized)\n",
    "                        feature = {\n",
    "                            'labels': tf.train.Feature(bytes_list=tf.train.BytesList(\n",
    "                                value=[tf.compat.as_bytes(labels)])),\n",
    "                            'image_raw': tf.train.Feature(bytes_list=tf.train.BytesList(\n",
    "                                value=[image_string.numpy()])),\n",
    "                        }\n",
    "\n",
    "                        tf_example = tf.train.Example(features=tf.train.Features(feature=feature))\n",
    "                        writer.write(tf_example.SerializeToString())\n",
    "                        "
   ]
  },
  {
   "cell_type": "code",
   "execution_count": null,
   "metadata": {
    "pycharm": {
     "is_executing": false,
     "name": "#%%\n"
    }
   },
   "outputs": [],
   "source": []
  }
 ],
 "metadata": {
  "kernelspec": {
   "display_name": "Python 3",
   "language": "python",
   "name": "python3"
  },
  "language_info": {
   "codemirror_mode": {
    "name": "ipython",
    "version": 3
   },
   "file_extension": ".py",
   "mimetype": "text/x-python",
   "name": "python",
   "nbconvert_exporter": "python",
   "pygments_lexer": "ipython3",
   "version": "3.6.8"
  },
  "pycharm": {
   "stem_cell": {
    "cell_type": "raw",
    "source": [],
    "metadata": {
     "collapsed": false
    }
   }
  }
 },
 "nbformat": 4,
 "nbformat_minor": 2
}