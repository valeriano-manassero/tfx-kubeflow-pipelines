{
 "cells": [
  {
   "cell_type": "code",
   "execution_count": null,
   "metadata": {},
   "outputs": [],
   "source": [
    "!pip install --user tfx==0.21.1 tensorflow-data-validation==0.21.5"
   ]
  },
  {
   "cell_type": "code",
   "execution_count": null,
   "metadata": {
    "pycharm": {
     "is_executing": false
    }
   },
   "outputs": [],
   "source": [
    "from grpc import insecure_channel\n",
    "from ml_metadata.proto import metadata_store_service_pb2\n",
    "from ml_metadata.proto import metadata_store_service_pb2_grpc\n",
    "import tensorflow_data_validation as tfdv"
   ]
  },
  {
   "cell_type": "code",
   "execution_count": null,
   "metadata": {},
   "outputs": [],
   "source": [
    "channel = insecure_channel('metadata-grpc-service.kubeflow:8080')\n",
    "stub = metadata_store_service_pb2_grpc.MetadataStoreServiceStub(channel)"
   ]
  },
  {
   "cell_type": "code",
   "execution_count": null,
   "metadata": {},
   "outputs": [],
   "source": [
    "request = metadata_store_service_pb2.GetArtifactsRequest()\n",
    "response = stub.GetArtifacts(request)"
   ]
  },
  {
   "cell_type": "code",
   "execution_count": null,
   "metadata": {},
   "outputs": [],
   "source": [
    "last_id = 0\n",
    "uri = \"\"\n",
    "for artifact in response.artifacts:\n",
    "    if artifact.custom_properties[\"pipeline_name\"].string_value == \"iris\" and artifact.custom_properties[\"producer_component\"].string_value == \"StatisticsGen\":\n",
    "        if artifact.id > last_id:\n",
    "            last_id = artifact.id\n",
    "            uri = artifact.uri\n",
    "uri"
   ]
  },
  {
   "cell_type": "code",
   "execution_count": null,
   "metadata": {},
   "outputs": [],
   "source": [
    "train_stats = tfdv.load_statistics(uri + \"/train/stats_tfrecord\")\n",
    "eval_stats = tfdv.load_statistics(uri + \"/eval/stats_tfrecord\")\n",
    "\n",
    "tfdv.visualize_statistics(lhs_statistics=eval_stats, rhs_statistics=train_stats,\n",
    "                          lhs_name='EVAL_DATASET', rhs_name='TRAIN_DATASET')"
   ]
  },
  {
   "cell_type": "code",
   "execution_count": null,
   "metadata": {},
   "outputs": [],
   "source": []
  }
 ],
 "metadata": {
  "kernelspec": {
   "display_name": "Python 3",
   "language": "python",
   "name": "python3"
  },
  "language_info": {
   "codemirror_mode": {
    "name": "ipython",
    "version": 3
   },
   "file_extension": ".py",
   "mimetype": "text/x-python",
   "name": "python",
   "nbconvert_exporter": "python",
   "pygments_lexer": "ipython3",
   "version": "3.6.9"
  },
  "pycharm": {
   "stem_cell": {
    "cell_type": "raw",
    "source": [],
    "metadata": {
     "collapsed": false
    }
   }
  }
 },
 "nbformat": 4,
 "nbformat_minor": 4
}